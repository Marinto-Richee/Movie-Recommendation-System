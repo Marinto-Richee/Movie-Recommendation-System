{
  "cells": [
    {
      "cell_type": "code",
      "execution_count": 3,
      "metadata": {
        "colab": {
          "base_uri": "https://localhost:8080/"
        },
        "id": "2aJxU8dmpLyB",
        "outputId": "a6bf51d1-0b1d-4e15-a3dd-96f3efaec8e4"
      },
      "outputs": [],
      "source": [
        "import pandas as pd\n",
        "import numpy as np\n",
        "import tensorflow as tf\n",
        "from tensorflow.keras.layers import Input, Embedding, Flatten, Dot, Dense\n",
        "from tensorflow.keras.models import Model\n",
        "# Load movie ratings dataset\n",
        "ratings = pd.read_csv('ratings.csv')"
      ]
    },
    {
      "cell_type": "code",
      "execution_count": 5,
      "metadata": {},
      "outputs": [],
      "source": [
        "# Convert user IDs and movie IDs to sequential integers\n",
        "ratings['userId'] = pd.Categorical(ratings['userId']).codes\n",
        "ratings['movieId'] = pd.Categorical(ratings['movieId']).codes"
      ]
    },
    {
      "cell_type": "code",
      "execution_count": 7,
      "metadata": {},
      "outputs": [],
      "source": [
        "# Split data into training and validation sets\n",
        "mask = np.random.rand(len(ratings)) < 0.8\n",
        "train = ratings[mask]\n",
        "val = ratings[~mask]"
      ]
    },
    {
      "cell_type": "code",
      "execution_count": 13,
      "metadata": {},
      "outputs": [
        {
          "name": "stdout",
          "output_type": "stream",
          "text": [
            "Train on 80663 samples, validate on 20173 samples\n",
            "Epoch 1/10\n",
            "80663/80663 [==============================] - 10s 123us/sample - loss: 7.2254 - val_loss: 1.8600\n",
            "Epoch 2/10\n",
            "80663/80663 [==============================] - 9s 115us/sample - loss: 1.2294 - val_loss: 1.1053\n",
            "Epoch 3/10\n",
            "80663/80663 [==============================] - 9s 114us/sample - loss: 0.8234 - val_loss: 0.9887\n",
            "Epoch 4/10\n",
            "80663/80663 [==============================] - 10s 118us/sample - loss: 0.6885 - val_loss: 0.9513\n",
            "Epoch 5/10\n",
            "80663/80663 [==============================] - 9s 114us/sample - loss: 0.5962 - val_loss: 0.9410\n",
            "Epoch 6/10\n",
            "80663/80663 [==============================] - 9s 114us/sample - loss: 0.5117 - val_loss: 0.9413\n",
            "Epoch 7/10\n",
            "80663/80663 [==============================] - 9s 116us/sample - loss: 0.4329 - val_loss: 0.9593\n",
            "Epoch 8/10\n",
            "80663/80663 [==============================] - 10s 118us/sample - loss: 0.3621 - val_loss: 0.9791\n",
            "Epoch 9/10\n",
            "80663/80663 [==============================] - 10s 121us/sample - loss: 0.3033 - val_loss: 1.0046\n",
            "Epoch 10/10\n",
            "80663/80663 [==============================] - 10s 120us/sample - loss: 0.2559 - val_loss: 1.0211\n"
          ]
        }
      ],
      "source": [
        "\n",
        "# Define model architecture\n",
        "num_users = len(ratings['userId'].unique())\n",
        "num_movies = len(ratings['movieId'].unique())\n",
        "\n",
        "user_input = Input(shape=(1,))\n",
        "user_embedding = Embedding(num_users, 32)(user_input)\n",
        "user_embedding = Flatten()(user_embedding)\n",
        "\n",
        "movie_input = Input(shape=(1,))\n",
        "movie_embedding = Embedding(num_movies, 32)(movie_input)\n",
        "movie_embedding = Flatten()(movie_embedding)\n",
        "\n",
        "dot_product = Dot(axes=1)([user_embedding, movie_embedding])\n",
        "output = Dense(1)(dot_product)\n",
        "\n",
        "model = Model(inputs=[user_input, movie_input], outputs=output)\n",
        "model.compile(loss='mean_squared_error', optimizer='adam')\n",
        "\n",
        "# Train model\n",
        "with tf.device('CPU'):\n",
        "    model.fit(x=[train['userId'], train['movieId']], y=train['rating'], batch_size=64, epochs=10, validation_data=([val['userId'], val['movieId']], val['rating']))"
      ]
    },
    {
      "cell_type": "code",
      "execution_count": 25,
      "metadata": {
        "colab": {
          "base_uri": "https://localhost:8080/",
          "height": 255
        },
        "id": "gNJugwZYrM23",
        "outputId": "d57f5da8-25d0-4abc-c0a7-5831035e2bf4"
      },
      "outputs": [
        {
          "data": {
            "text/html": [
              "<div>\n",
              "<style scoped>\n",
              "    .dataframe tbody tr th:only-of-type {\n",
              "        vertical-align: middle;\n",
              "    }\n",
              "\n",
              "    .dataframe tbody tr th {\n",
              "        vertical-align: top;\n",
              "    }\n",
              "\n",
              "    .dataframe thead th {\n",
              "        text-align: right;\n",
              "    }\n",
              "</style>\n",
              "<table border=\"1\" class=\"dataframe\">\n",
              "  <thead>\n",
              "    <tr style=\"text-align: right;\">\n",
              "      <th></th>\n",
              "      <th>title</th>\n",
              "      <th>genres</th>\n",
              "    </tr>\n",
              "  </thead>\n",
              "  <tbody>\n",
              "    <tr>\n",
              "      <th>153</th>\n",
              "      <td>Mighty Morphin Power Rangers: The Movie (1995)</td>\n",
              "      <td>Action|Children</td>\n",
              "    </tr>\n",
              "    <tr>\n",
              "      <th>503</th>\n",
              "      <td>Brady Bunch Movie, The (1995)</td>\n",
              "      <td>Comedy</td>\n",
              "    </tr>\n",
              "    <tr>\n",
              "      <th>1096</th>\n",
              "      <td>Fierce Creatures (1997)</td>\n",
              "      <td>Comedy</td>\n",
              "    </tr>\n",
              "    <tr>\n",
              "      <th>1377</th>\n",
              "      <td>Almost Heroes (1998)</td>\n",
              "      <td>Adventure|Comedy|Western</td>\n",
              "    </tr>\n",
              "    <tr>\n",
              "      <th>2615</th>\n",
              "      <td>Mr. Saturday Night (1992)</td>\n",
              "      <td>Comedy|Drama</td>\n",
              "    </tr>\n",
              "    <tr>\n",
              "      <th>3122</th>\n",
              "      <td>Double Impact (1991)</td>\n",
              "      <td>Action</td>\n",
              "    </tr>\n",
              "    <tr>\n",
              "      <th>5361</th>\n",
              "      <td>Being Julia (2004)</td>\n",
              "      <td>Comedy|Drama</td>\n",
              "    </tr>\n",
              "  </tbody>\n",
              "</table>\n",
              "</div>"
            ],
            "text/plain": [
              "                                               title                    genres\n",
              "153   Mighty Morphin Power Rangers: The Movie (1995)           Action|Children\n",
              "503                    Brady Bunch Movie, The (1995)                    Comedy\n",
              "1096                         Fierce Creatures (1997)                    Comedy\n",
              "1377                            Almost Heroes (1998)  Adventure|Comedy|Western\n",
              "2615                       Mr. Saturday Night (1992)              Comedy|Drama\n",
              "3122                            Double Impact (1991)                    Action\n",
              "5361                              Being Julia (2004)              Comedy|Drama"
            ]
          },
          "execution_count": 25,
          "metadata": {},
          "output_type": "execute_result"
        }
      ],
      "source": [
        "user_id = 23 #User ID\n",
        "user_movies = ratings[ratings['userId'] == user_id]['movieId'].unique()\n",
        "user_ratings = np.zeros(num_movies)\n",
        "user_ratings[user_movies] = 1\n",
        "movie_scores = model.predict([np.array([user_id]*num_movies), np.arange(num_movies)])\n",
        "movie_ids = np.argsort(-movie_scores.flatten())[:10]\n",
        "recommended_movies = pd.read_csv('movies.csv')\n",
        "recommended_movies = recommended_movies[recommended_movies['movieId'].isin(movie_ids)]\n",
        "pd.DataFrame(recommended_movies[['title', 'genres']])"
      ]
    },
    {
      "cell_type": "code",
      "execution_count": 33,
      "metadata": {},
      "outputs": [
        {
          "data": {
            "image/png": "[encoded data removed]",
            "text/plain": [
              "<Figure size 640x480 with 1 Axes>"
            ]
          },
          "metadata": {},
          "output_type": "display_data"
        }
      ],
      "source": [
        "num_ratings = ratings.groupby('movieId').size().reset_index(name='num_ratings')[:5]\n",
        "import matplotlib.pyplot as plt\n",
        "# Sort movies by popularity (number of ratings)\n",
        "num_ratings = num_ratings.sort_values('num_ratings', ascending=False)\n",
        "# Create a pie chart of the number of ratings for each movie\n",
        "plt.pie(num_ratings['num_ratings'], labels=num_ratings['movieId'], autopct='%1.1f%%')\n",
        "plt.title('Movie Popularity')\n",
        "plt.show()"
      ]
    }
  ],
  "metadata": {
    "colab": {
      "name": "Welcome to Colaboratory",
      "provenance": []
    },
    "kernelspec": {
      "display_name": "Python 3",
      "name": "python3"
    },
    "language_info": {
      "codemirror_mode": {
        "name": "ipython",
        "version": 3
      },
      "file_extension": ".py",
      "mimetype": "text/x-python",
      "name": "python",
      "nbconvert_exporter": "python",
      "pygments_lexer": "ipython3",
      "version": "3.7.16"
    }
  },
  "nbformat": 4,
  "nbformat_minor": 0
}
